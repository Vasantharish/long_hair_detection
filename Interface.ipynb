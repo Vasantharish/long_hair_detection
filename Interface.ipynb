{
 "cells": [
  {
   "cell_type": "markdown",
   "metadata": {},
   "source": [
    "## Importing Libraries\n",
    "\n"
   ]
  },
  {
   "cell_type": "code",
   "execution_count": 49,
   "metadata": {},
   "outputs": [],
   "source": [
    "import numpy as np \n",
    "import pandas as pd \n",
    "import cv2 as ocv\n",
    "import cvlib as cv \n",
    "import matplotlib.pyplot as plt\n",
    "import PIL as im\n",
    "import tensorflow.keras as tfk\n",
    "from tensorflow.keras.models import  load_model\n",
    "import math\n",
    "from tkinter import *\n",
    "from tkinter import filedialog\n",
    "from tkinter import messagebox\n",
    "from tkinter import ttk\n",
    "from PIL import ImageTk"
   ]
  },
  {
   "cell_type": "markdown",
   "metadata": {},
   "source": [
    "## Functions for model predictions\n",
    "    1. creating function for face detection to find face co-ordinations\n",
    "    2. loading model to classify gender and decision making based on classifications\n",
    "    3. Two models one for age, gender classification another model for predicting long or short hair "
   ]
  },
  {
   "cell_type": "code",
   "execution_count": 50,
   "metadata": {},
   "outputs": [],
   "source": [
    "def picture(im):    \n",
    "    image = ocv.imread(im) # reading image\n",
    "    image = ocv.resize(image,(640,640))\n",
    "    points,acc = cv.detect_face(image) # getting face co-ordinates in given image\n",
    "\n",
    "    return image,points"
   ]
  },
  {
   "cell_type": "code",
   "execution_count": 51,
   "metadata": {},
   "outputs": [],
   "source": [
    "def model_out(img,corr):\n",
    "    gen_model = load_model('Age_gender.keras') #loading age,gender model\n",
    "    bin_model = load_model('hairDetect.keras') #loading hair detecting model\n",
    "\n",
    "    gen,age,hair = None,None,None\n",
    "    if len(corr) == 0:\n",
    "         messagebox.showinfo(\"Face Detection Cancelled\", \"No face detected.\")\n",
    "         return gen,age,hair\n",
    "\n",
    "    x,y,x_end,y_end = corr[0]\n",
    "    X,Y= round((x-0)*0.90),round((y-0)*0.90) # calculations for finding boundary of images\n",
    "\n",
    "    images = img[y-5:y_end+5,x-5:x_end+5] # image cropping\n",
    "    images = ocv.resize(images,(110,110))\n",
    "    image = images.astype(np.float32)/255.0\n",
    "    val = gen_model.predict(np.expand_dims(image,axis=0)) # prediction for age,gender\n",
    "    gen,age = int(val[0][0][0]>0.5),round(val[1][0][0])\n",
    "\n",
    "    if age >=20 and age <=30:\n",
    "        binary = img[y-Y:y_end+70,x-X:x_end+75] # image cropping\n",
    "        binary = ocv.resize(binary,(110,110))\n",
    "        binary = ocv.cvtColor(binary,ocv.COLOR_BGR2GRAY) #converting to gray image\n",
    "        binary =binary.astype(np.float32)/255.0\n",
    "        hval = bin_model.predict(np.expand_dims(binary,axis=0))\n",
    "        hair = int(hval[0][0]>0.5)\n",
    "  \n",
    "    # Choosing gender based on given task\n",
    "    \n",
    "    color = 'green'     \n",
    "    if hair ==None:\n",
    "        gen = 'Male' if gen == 0 else 'Female'\n",
    "    else:\n",
    "        color = 'red'\n",
    "        gen = 'Male' if hair == 0 else 'Female'\n",
    "    return gen,age,color\n"
   ]
  },
  {
   "cell_type": "markdown",
   "metadata": {},
   "source": [
    "## GUI creation \n",
    "    1. building gui for predicting images\n",
    "    2. Dropdown menu, buttons, labels to provide better gui\n",
    "    3. custom images for testing model performance"
   ]
  },
  {
   "cell_type": "code",
   "execution_count": 52,
   "metadata": {},
   "outputs": [],
   "source": [
    "# Create main window\n",
    "win = Tk()\n",
    "win.title('Long_Hair_Detection')\n",
    "win.config(bg='darkgreen')\n",
    "win.geometry('600x600')\n",
    "\n",
    "options = [\"image.jpg\", \"image1.jpg\", \"image2.jpg\", \"image3.jpg\",'image4.jpg','image5.jpg','image6.jpg','image7.jpg','image8.jpg','image9.jpg','image10.jpg']\n",
    "label = Label(win,bg='green',fg='black',bd=10,relief=RAISED)\n",
    "label.pack(side='left',padx=10,pady=10)\n",
    "label2 = Label(win,bg='white',width=400,height=400,bd=5,relief=RAISED)\n",
    "label2.pack(side='top',padx=10, pady=100)\n",
    "\n",
    "def open_file_dialog():\n",
    "    # Open the file dialog\n",
    "    global file_path\n",
    "    file_path = filedialog.askopenfilename(\n",
    "        title=\"Select a File\",\n",
    "        filetypes=[(\"Image Files\", \"*.png;*.jpg;*.jpeg;*.gif;*.bmp\")]  # File type filters\n",
    "    )\n",
    "    # Show a message with the selected file path \n",
    "    if file_path:\n",
    "        images(file_path)\n",
    "\n",
    "        clicked.set('Custom Images')\n",
    "    else:\n",
    "        messagebox.showinfo(\"File Selection Cancelled\", \"No file selected.\")\n",
    "\n",
    "def get_selected_option():\n",
    "    selected_option = clicked.get() #default option\n",
    "    if selected_option:\n",
    "        \n",
    "        images(selected_option)\n",
    "    else:\n",
    "        messagebox.showinfo(\"File Selection Cancelled\", \"No file selected.\")\n",
    "    \n",
    "\n",
    "def images(filePath):\n",
    "    image = im.Image.open(filePath) # configure image and text display inside label\n",
    "    image = image.resize((300,300))\n",
    "    global imagetk\n",
    "    imagetk =ImageTk.PhotoImage(image)\n",
    "    image,points = picture(filePath)\n",
    "    gen,age,color = model_out(image,points)\n",
    "    l = f'gender:{gen} Age:{age}'\n",
    "    label2.config(text=l,\n",
    "    font=('arial',25,'bold'),\n",
    "    fg=color,image=imagetk,\n",
    "    compound='bottom',pady=10)\n",
    "\n",
    "\n",
    "clicked = StringVar()\n",
    "# Set default option\n",
    "clicked.set('Custom Images')\n",
    "\n",
    "# Create OptionMenu (Dropdown)\n",
    "dropdown = OptionMenu(label, clicked, *options)\n",
    "dropdown.config(fg='white',bg='black')\n",
    "\n",
    "# Add a button to display the selected option\n",
    "button = Button(label, text=\"Show Selected\", fg='white',bg='black',command=get_selected_option)\n",
    "\n",
    "button1 = Button(label,\n",
    "                text='choose file',\n",
    "                command=open_file_dialog,fg='white',bg='black')\n",
    "\n",
    "button1.grid(row=0, column=0, padx=10, pady=10)  # First button in row 0, column 0\n",
    "dropdown.grid(row=1, column=0, padx=10, pady=10)  # Second button in row 0, column 1\n",
    "button.grid(row=2, column=0, padx=10, pady=10)  # third button in row 0, column 2\n",
    "\n",
    "off = Button(win,text='Exit',font=('timesnewroman',20),command=win.quit)\n",
    "off.pack(side='bottom')\n",
    "\n",
    "win.mainloop()\n",
    "\n"
   ]
  },
  {
   "cell_type": "code",
   "execution_count": null,
   "metadata": {},
   "outputs": [
    {
     "name": "stdout",
     "output_type": "stream",
     "text": [
      "3.3.3\n"
     ]
    }
   ],
   "source": []
  }
 ],
 "metadata": {
  "kernelspec": {
   "display_name": "Python 3",
   "language": "python",
   "name": "python3"
  },
  "language_info": {
   "codemirror_mode": {
    "name": "ipython",
    "version": 3
   },
   "file_extension": ".py",
   "mimetype": "text/x-python",
   "name": "python",
   "nbconvert_exporter": "python",
   "pygments_lexer": "ipython3",
   "version": "3.12.4"
  }
 },
 "nbformat": 4,
 "nbformat_minor": 2
}
